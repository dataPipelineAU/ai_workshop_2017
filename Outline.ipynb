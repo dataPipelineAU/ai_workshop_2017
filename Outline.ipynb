{
 "cells": [
  {
   "cell_type": "markdown",
   "metadata": {},
   "source": [
    "# Creating AI with neat-python\n",
    "\n",
    "\n",
    "Outline for today\n",
    "\n",
    "1. Welcome\n",
    "1. Using Jupyter Notebooks and Python\n",
    "1. Some Python basics\n",
    "1. A quick neural network introduction\n",
    "1. Lunch\n",
    "1. neat-python basics\n",
    "1. application to a simple game\n",
    "1. next steps?\n"
   ]
  },
  {
   "cell_type": "markdown",
   "metadata": {},
   "source": [
    "## Welcome!\n",
    "\n",
    "1. whoami\n",
    "1. Lab 79\n",
    "1. Eurekative\n",
    "1. Ballarat Hackerspace\n",
    "1. Digital Innovation Festival\n",
    "\n",
    "[Ballarat Tech stuff at ballarat.tech](https://ballarat.tech)"
   ]
  },
  {
   "cell_type": "markdown",
   "metadata": {},
   "source": [
    "## Using Jupyter Notebooks and Python\n",
    "\n",
    "1. help\n",
    "2. keyboard shortcuts\n",
    "3. when things go wrong! (Kernel Restart)\n",
    "4. Exporting code to other files"
   ]
  },
  {
   "cell_type": "markdown",
   "metadata": {},
   "source": [
    "## Some Python Basics\n",
    "\n",
    "1. Common syntax issues (missing colons, overriding builtins)\n",
    "1. How to read errors\n",
    "1. Debug mode\n",
    "1. Showing plots with %matplotlib inline"
   ]
  },
  {
   "cell_type": "markdown",
   "metadata": {},
   "source": [
    "# A quick neural networks summary\n",
    "\n",
    "1. Basic feed-forward networks\n",
    "1. Deep neural networks\n",
    "1. Its hard to create them\n",
    "1. What neat does is create neural networks for us\n",
    "1. Evolutionary concepts for algorithms"
   ]
  },
  {
   "cell_type": "code",
   "execution_count": null,
   "metadata": {
    "collapsed": true
   },
   "outputs": [],
   "source": []
  }
 ],
 "metadata": {
  "kernelspec": {
   "display_name": "Python 3",
   "language": "python",
   "name": "python3"
  },
  "language_info": {
   "codemirror_mode": {
    "name": "ipython",
    "version": 3
   },
   "file_extension": ".py",
   "mimetype": "text/x-python",
   "name": "python",
   "nbconvert_exporter": "python",
   "pygments_lexer": "ipython3",
   "version": "3.6.1"
  }
 },
 "nbformat": 4,
 "nbformat_minor": 2
}
